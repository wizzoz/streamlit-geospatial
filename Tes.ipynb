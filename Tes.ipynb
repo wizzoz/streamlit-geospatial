{
 "cells": [
  {
   "cell_type": "code",
   "execution_count": 2,
   "id": "578e1d25",
   "metadata": {},
   "outputs": [
    {
     "name": "stdout",
     "output_type": "stream",
     "text": [
      "Requirement already satisfied: geemap in c:\\users\\fauzi\\anaconda3\\envs\\geogee\\lib\\site-packages (0.17.1)Note: you may need to restart the kernel to use updated packages.\n",
      "\n",
      "Requirement already satisfied: pillow in c:\\users\\fauzi\\anaconda3\\envs\\geogee\\lib\\site-packages (from geemap) (9.3.0)\n",
      "Requirement already satisfied: pandas in c:\\users\\fauzi\\anaconda3\\envs\\geogee\\lib\\site-packages (from geemap) (1.4.4)\n",
      "Requirement already satisfied: ffmpeg-python in c:\\users\\fauzi\\anaconda3\\envs\\geogee\\lib\\site-packages (from geemap) (0.2.0)\n",
      "Requirement already satisfied: geojson in c:\\users\\fauzi\\anaconda3\\envs\\geogee\\lib\\site-packages (from geemap) (2.5.0)\n",
      "Requirement already satisfied: pyshp>=2.1.3 in c:\\users\\fauzi\\anaconda3\\envs\\geogee\\lib\\site-packages (from geemap) (2.3.1)\n",
      "Requirement already satisfied: colour in c:\\users\\fauzi\\anaconda3\\envs\\geogee\\lib\\site-packages (from geemap) (0.1.5)\n",
      "Requirement already satisfied: gdown in c:\\users\\fauzi\\anaconda3\\envs\\geogee\\lib\\site-packages (from geemap) (4.5.3)\n",
      "Requirement already satisfied: scooby in c:\\users\\fauzi\\anaconda3\\envs\\geogee\\lib\\site-packages (from geemap) (0.7.0)\n",
      "Requirement already satisfied: matplotlib in c:\\users\\fauzi\\anaconda3\\envs\\geogee\\lib\\site-packages (from geemap) (3.6.1)\n",
      "Requirement already satisfied: pycrs in c:\\users\\fauzi\\anaconda3\\envs\\geogee\\lib\\site-packages (from geemap) (1.0.2)\n",
      "Requirement already satisfied: earthengine-api>=0.1.304 in c:\\users\\fauzi\\anaconda3\\envs\\geogee\\lib\\site-packages (from geemap) (0.1.329)\n",
      "Requirement already satisfied: ee-extra>=0.0.10 in c:\\users\\fauzi\\anaconda3\\envs\\geogee\\lib\\site-packages (from geemap) (0.0.14)\n",
      "Requirement already satisfied: xyzservices in c:\\users\\fauzi\\anaconda3\\envs\\geogee\\lib\\site-packages (from geemap) (2022.9.0)\n",
      "Requirement already satisfied: ipyevents in c:\\users\\fauzi\\anaconda3\\envs\\geogee\\lib\\site-packages (from geemap) (2.0.1)\n",
      "Requirement already satisfied: jupyterlab>=3 in c:\\users\\fauzi\\anaconda3\\envs\\geogee\\lib\\site-packages (from geemap) (3.5.0)\n",
      "Requirement already satisfied: python-box in c:\\users\\fauzi\\anaconda3\\envs\\geogee\\lib\\site-packages (from geemap) (6.1.0)\n",
      "Requirement already satisfied: folium>=0.11.0 in c:\\users\\fauzi\\anaconda3\\envs\\geogee\\lib\\site-packages (from geemap) (0.13.0)\n",
      "Requirement already satisfied: ipytree in c:\\users\\fauzi\\anaconda3\\envs\\geogee\\lib\\site-packages (from geemap) (0.2.2)\n",
      "Requirement already satisfied: geeadd>=0.5.1 in c:\\users\\fauzi\\anaconda3\\envs\\geogee\\lib\\site-packages (from geemap) (0.5.6)\n",
      "Requirement already satisfied: bqplot in c:\\users\\fauzi\\anaconda3\\envs\\geogee\\lib\\site-packages (from geemap) (0.12.36)\n",
      "Requirement already satisfied: sankee>=0.1.0 in c:\\users\\fauzi\\anaconda3\\envs\\geogee\\lib\\site-packages (from geemap) (0.2.0)\n",
      "Requirement already satisfied: numpy in c:\\users\\fauzi\\anaconda3\\envs\\geogee\\lib\\site-packages (from geemap) (1.23.4)\n",
      "Requirement already satisfied: whiteboxgui>=0.6.0 in c:\\users\\fauzi\\anaconda3\\envs\\geogee\\lib\\site-packages (from geemap) (2.2.0)\n",
      "Requirement already satisfied: ipyleaflet>=0.17.0 in c:\\users\\fauzi\\anaconda3\\envs\\geogee\\lib\\site-packages (from geemap) (0.17.2)\n",
      "Requirement already satisfied: ipyfilechooser>=0.6.0 in c:\\users\\fauzi\\anaconda3\\envs\\geogee\\lib\\site-packages (from geemap) (0.6.0)\n",
      "Requirement already satisfied: geocoder in c:\\users\\fauzi\\anaconda3\\envs\\geogee\\lib\\site-packages (from geemap) (1.38.1)\n",
      "Requirement already satisfied: google-api-python-client<2,>=1.12.1 in c:\\users\\fauzi\\anaconda3\\envs\\geogee\\lib\\site-packages (from earthengine-api>=0.1.304->geemap) (1.12.8)\n",
      "Requirement already satisfied: future in c:\\users\\fauzi\\anaconda3\\envs\\geogee\\lib\\site-packages (from earthengine-api>=0.1.304->geemap) (0.18.2)\n",
      "Requirement already satisfied: httplib2<1dev,>=0.9.2 in c:\\users\\fauzi\\anaconda3\\envs\\geogee\\lib\\site-packages (from earthengine-api>=0.1.304->geemap) (0.21.0)\n",
      "Requirement already satisfied: google-cloud-storage in c:\\users\\fauzi\\anaconda3\\envs\\geogee\\lib\\site-packages (from earthengine-api>=0.1.304->geemap) (1.19.0)\n",
      "Requirement already satisfied: google-auth-httplib2>=0.0.3 in c:\\users\\fauzi\\anaconda3\\envs\\geogee\\lib\\site-packages (from earthengine-api>=0.1.304->geemap) (0.1.0)\n",
      "Requirement already satisfied: six in c:\\users\\fauzi\\anaconda3\\envs\\geogee\\lib\\site-packages (from earthengine-api>=0.1.304->geemap) (1.16.0)\n",
      "Requirement already satisfied: httplib2shim in c:\\users\\fauzi\\anaconda3\\envs\\geogee\\lib\\site-packages (from earthengine-api>=0.1.304->geemap) (0.0.3)\n",
      "Requirement already satisfied: google-auth>=1.4.1 in c:\\users\\fauzi\\anaconda3\\envs\\geogee\\lib\\site-packages (from earthengine-api>=0.1.304->geemap) (1.35.0)\n",
      "Requirement already satisfied: jinja2>=2.9 in c:\\users\\fauzi\\anaconda3\\envs\\geogee\\lib\\site-packages (from folium>=0.11.0->geemap) (3.1.2)\n",
      "Requirement already satisfied: requests in c:\\users\\fauzi\\anaconda3\\envs\\geogee\\lib\\site-packages (from folium>=0.11.0->geemap) (2.28.1)\n",
      "Requirement already satisfied: branca>=0.3.0 in c:\\users\\fauzi\\anaconda3\\envs\\geogee\\lib\\site-packages (from folium>=0.11.0->geemap) (0.5.0)\n",
      "Requirement already satisfied: logzero>=1.5.0 in c:\\users\\fauzi\\anaconda3\\envs\\geogee\\lib\\site-packages (from geeadd>=0.5.1->geemap) (1.7.0)\n",
      "Requirement already satisfied: beautifulsoup4>=4.9.0 in c:\\users\\fauzi\\anaconda3\\envs\\geogee\\lib\\site-packages (from geeadd>=0.5.1->geemap) (4.11.1)\n",
      "Requirement already satisfied: ipywidgets in c:\\users\\fauzi\\anaconda3\\envs\\geogee\\lib\\site-packages (from ipyfilechooser>=0.6.0->geemap) (7.6.5)\n",
      "Requirement already satisfied: traittypes<3,>=0.2.1 in c:\\users\\fauzi\\anaconda3\\envs\\geogee\\lib\\site-packages (from ipyleaflet>=0.17.0->geemap) (0.2.1)\n",
      "Requirement already satisfied: ipython in c:\\users\\fauzi\\anaconda3\\envs\\geogee\\lib\\site-packages (from jupyterlab>=3->geemap) (8.4.0)\n",
      "Requirement already satisfied: tornado>=6.1.0 in c:\\users\\fauzi\\anaconda3\\envs\\geogee\\lib\\site-packages (from jupyterlab>=3->geemap) (6.2)\n",
      "Requirement already satisfied: nbclassic in c:\\users\\fauzi\\anaconda3\\envs\\geogee\\lib\\site-packages (from jupyterlab>=3->geemap) (0.4.7)\n",
      "Requirement already satisfied: packaging in c:\\users\\fauzi\\anaconda3\\envs\\geogee\\lib\\site-packages (from jupyterlab>=3->geemap) (21.3)\n",
      "Requirement already satisfied: tomli in c:\\users\\fauzi\\anaconda3\\envs\\geogee\\lib\\site-packages (from jupyterlab>=3->geemap) (2.0.1)\n",
      "Requirement already satisfied: jupyterlab-server~=2.10 in c:\\users\\fauzi\\anaconda3\\envs\\geogee\\lib\\site-packages (from jupyterlab>=3->geemap) (2.16.1)\n",
      "Requirement already satisfied: notebook<7 in c:\\users\\fauzi\\anaconda3\\envs\\geogee\\lib\\site-packages (from jupyterlab>=3->geemap) (6.4.12)\n",
      "Requirement already satisfied: jupyter-server<3,>=1.16.0 in c:\\users\\fauzi\\anaconda3\\envs\\geogee\\lib\\site-packages (from jupyterlab>=3->geemap) (1.21.0)\n",
      "Requirement already satisfied: jupyter-core in c:\\users\\fauzi\\anaconda3\\envs\\geogee\\lib\\site-packages (from jupyterlab>=3->geemap) (4.11.1)\n",
      "Requirement already satisfied: plotly>=5.2.2 in c:\\users\\fauzi\\anaconda3\\envs\\geogee\\lib\\site-packages (from sankee>=0.1.0->geemap) (5.11.0)\n",
      "Requirement already satisfied: whitebox in c:\\users\\fauzi\\anaconda3\\envs\\geogee\\lib\\site-packages (from whiteboxgui>=0.6.0->geemap) (2.2.0)\n",
      "Requirement already satisfied: traitlets>=4.3.0 in c:\\users\\fauzi\\anaconda3\\envs\\geogee\\lib\\site-packages (from bqplot->geemap) (5.5.0)\n",
      "Requirement already satisfied: pytz>=2020.1 in c:\\users\\fauzi\\anaconda3\\envs\\geogee\\lib\\site-packages (from pandas->geemap) (2022.5)\n",
      "Requirement already satisfied: python-dateutil>=2.8.1 in c:\\users\\fauzi\\anaconda3\\envs\\geogee\\lib\\site-packages (from pandas->geemap) (2.8.2)\n",
      "Requirement already satisfied: filelock in c:\\users\\fauzi\\anaconda3\\envs\\geogee\\lib\\site-packages (from gdown->geemap) (3.8.0)\n",
      "Requirement already satisfied: tqdm in c:\\users\\fauzi\\anaconda3\\envs\\geogee\\lib\\site-packages (from gdown->geemap) (4.64.1)\n",
      "Requirement already satisfied: click in c:\\users\\fauzi\\anaconda3\\envs\\geogee\\lib\\site-packages (from geocoder->geemap) (8.0.4)\n",
      "Requirement already satisfied: ratelim in c:\\users\\fauzi\\anaconda3\\envs\\geogee\\lib\\site-packages (from geocoder->geemap) (0.1.6)\n",
      "Requirement already satisfied: fonttools>=4.22.0 in c:\\users\\fauzi\\anaconda3\\envs\\geogee\\lib\\site-packages (from matplotlib->geemap) (4.38.0)\n",
      "Requirement already satisfied: contourpy>=1.0.1 in c:\\users\\fauzi\\anaconda3\\envs\\geogee\\lib\\site-packages (from matplotlib->geemap) (1.0.5)\n",
      "Requirement already satisfied: cycler>=0.10 in c:\\users\\fauzi\\anaconda3\\envs\\geogee\\lib\\site-packages (from matplotlib->geemap) (0.11.0)\n",
      "Requirement already satisfied: kiwisolver>=1.0.1 in c:\\users\\fauzi\\anaconda3\\envs\\geogee\\lib\\site-packages (from matplotlib->geemap) (1.4.4)\n",
      "Requirement already satisfied: pyparsing>=2.2.1 in c:\\users\\fauzi\\anaconda3\\envs\\geogee\\lib\\site-packages (from matplotlib->geemap) (3.0.9)\n",
      "Requirement already satisfied: soupsieve>1.2 in c:\\users\\fauzi\\anaconda3\\envs\\geogee\\lib\\site-packages (from beautifulsoup4>=4.9.0->geeadd>=0.5.1->geemap) (2.3.2.post1)\n",
      "Requirement already satisfied: google-api-core<2dev,>=1.21.0 in c:\\users\\fauzi\\anaconda3\\envs\\geogee\\lib\\site-packages (from google-api-python-client<2,>=1.12.1->earthengine-api>=0.1.304->geemap) (1.25.1)\n",
      "Requirement already satisfied: uritemplate<4dev,>=3.0.0 in c:\\users\\fauzi\\anaconda3\\envs\\geogee\\lib\\site-packages (from google-api-python-client<2,>=1.12.1->earthengine-api>=0.1.304->geemap) (3.0.1)\n",
      "Requirement already satisfied: cachetools<5.0,>=2.0.0 in c:\\users\\fauzi\\anaconda3\\envs\\geogee\\lib\\site-packages (from google-auth>=1.4.1->earthengine-api>=0.1.304->geemap) (4.2.2)\n",
      "Requirement already satisfied: pyasn1-modules>=0.2.1 in c:\\users\\fauzi\\anaconda3\\envs\\geogee\\lib\\site-packages (from google-auth>=1.4.1->earthengine-api>=0.1.304->geemap) (0.2.8)\n",
      "Requirement already satisfied: setuptools>=40.3.0 in c:\\users\\fauzi\\anaconda3\\envs\\geogee\\lib\\site-packages (from google-auth>=1.4.1->earthengine-api>=0.1.304->geemap) (63.4.1)\n",
      "Requirement already satisfied: rsa<5,>=3.1.4 in c:\\users\\fauzi\\anaconda3\\envs\\geogee\\lib\\site-packages (from google-auth>=1.4.1->earthengine-api>=0.1.304->geemap) (4.9)\n",
      "Requirement already satisfied: ipykernel>=4.5.1 in c:\\users\\fauzi\\anaconda3\\envs\\geogee\\lib\\site-packages (from ipywidgets->ipyfilechooser>=0.6.0->geemap) (6.15.2)\n",
      "Requirement already satisfied: jupyterlab-widgets>=1.0.0 in c:\\users\\fauzi\\anaconda3\\envs\\geogee\\lib\\site-packages (from ipywidgets->ipyfilechooser>=0.6.0->geemap) (1.1.1)\n",
      "Requirement already satisfied: widgetsnbextension~=3.5.0 in c:\\users\\fauzi\\anaconda3\\envs\\geogee\\lib\\site-packages (from ipywidgets->ipyfilechooser>=0.6.0->geemap) (3.5.2)\n",
      "Requirement already satisfied: nbformat>=4.2.0 in c:\\users\\fauzi\\anaconda3\\envs\\geogee\\lib\\site-packages (from ipywidgets->ipyfilechooser>=0.6.0->geemap) (5.5.0)\n",
      "Requirement already satisfied: ipython-genutils~=0.2.0 in c:\\users\\fauzi\\anaconda3\\envs\\geogee\\lib\\site-packages (from ipywidgets->ipyfilechooser>=0.6.0->geemap) (0.2.0)\n",
      "Requirement already satisfied: matplotlib-inline in c:\\users\\fauzi\\anaconda3\\envs\\geogee\\lib\\site-packages (from ipython->jupyterlab>=3->geemap) (0.1.6)\n",
      "Requirement already satisfied: pickleshare in c:\\users\\fauzi\\anaconda3\\envs\\geogee\\lib\\site-packages (from ipython->jupyterlab>=3->geemap) (0.7.5)\n",
      "Requirement already satisfied: backcall in c:\\users\\fauzi\\anaconda3\\envs\\geogee\\lib\\site-packages (from ipython->jupyterlab>=3->geemap) (0.2.0)\n",
      "Requirement already satisfied: jedi>=0.16 in c:\\users\\fauzi\\anaconda3\\envs\\geogee\\lib\\site-packages (from ipython->jupyterlab>=3->geemap) (0.18.1)\n",
      "Requirement already satisfied: colorama in c:\\users\\fauzi\\anaconda3\\envs\\geogee\\lib\\site-packages (from ipython->jupyterlab>=3->geemap) (0.4.5)\n",
      "Requirement already satisfied: decorator in c:\\users\\fauzi\\anaconda3\\envs\\geogee\\lib\\site-packages (from ipython->jupyterlab>=3->geemap) (5.1.1)\n",
      "Requirement already satisfied: stack-data in c:\\users\\fauzi\\anaconda3\\envs\\geogee\\lib\\site-packages (from ipython->jupyterlab>=3->geemap) (0.2.0)\n",
      "Requirement already satisfied: pygments>=2.4.0 in c:\\users\\fauzi\\anaconda3\\envs\\geogee\\lib\\site-packages (from ipython->jupyterlab>=3->geemap) (2.13.0)\n",
      "Requirement already satisfied: prompt-toolkit!=3.0.0,!=3.0.1,<3.1.0,>=2.0.0 in c:\\users\\fauzi\\anaconda3\\envs\\geogee\\lib\\site-packages (from ipython->jupyterlab>=3->geemap) (3.0.31)\n",
      "Requirement already satisfied: MarkupSafe>=2.0 in c:\\users\\fauzi\\anaconda3\\envs\\geogee\\lib\\site-packages (from jinja2>=2.9->folium>=0.11.0->geemap) (2.1.1)\n",
      "Requirement already satisfied: pyzmq>=17 in c:\\users\\fauzi\\anaconda3\\envs\\geogee\\lib\\site-packages (from jupyter-server<3,>=1.16.0->jupyterlab>=3->geemap) (24.0.1)\n",
      "Requirement already satisfied: nbconvert>=6.4.4 in c:\\users\\fauzi\\anaconda3\\envs\\geogee\\lib\\site-packages (from jupyter-server<3,>=1.16.0->jupyterlab>=3->geemap) (6.4.4)\n",
      "Requirement already satisfied: prometheus-client in c:\\users\\fauzi\\anaconda3\\envs\\geogee\\lib\\site-packages (from jupyter-server<3,>=1.16.0->jupyterlab>=3->geemap) (0.15.0)\n",
      "Requirement already satisfied: Send2Trash in c:\\users\\fauzi\\anaconda3\\envs\\geogee\\lib\\site-packages (from jupyter-server<3,>=1.16.0->jupyterlab>=3->geemap) (1.8.0)\n",
      "Requirement already satisfied: anyio<4,>=3.1.0 in c:\\users\\fauzi\\anaconda3\\envs\\geogee\\lib\\site-packages (from jupyter-server<3,>=1.16.0->jupyterlab>=3->geemap) (3.6.2)\n",
      "Requirement already satisfied: terminado>=0.8.3 in c:\\users\\fauzi\\anaconda3\\envs\\geogee\\lib\\site-packages (from jupyter-server<3,>=1.16.0->jupyterlab>=3->geemap) (0.13.1)\n",
      "Requirement already satisfied: jupyter-client>=6.1.12 in c:\\users\\fauzi\\anaconda3\\envs\\geogee\\lib\\site-packages (from jupyter-server<3,>=1.16.0->jupyterlab>=3->geemap) (7.3.5)\n",
      "Requirement already satisfied: websocket-client in c:\\users\\fauzi\\anaconda3\\envs\\geogee\\lib\\site-packages (from jupyter-server<3,>=1.16.0->jupyterlab>=3->geemap) (1.4.1)\n",
      "Requirement already satisfied: pywinpty in c:\\users\\fauzi\\anaconda3\\envs\\geogee\\lib\\site-packages (from jupyter-server<3,>=1.16.0->jupyterlab>=3->geemap) (2.0.9)\n",
      "Requirement already satisfied: argon2-cffi in c:\\users\\fauzi\\anaconda3\\envs\\geogee\\lib\\site-packages (from jupyter-server<3,>=1.16.0->jupyterlab>=3->geemap) (21.3.0)\n",
      "Requirement already satisfied: pywin32>=1.0 in c:\\users\\fauzi\\anaconda3\\envs\\geogee\\lib\\site-packages (from jupyter-core->jupyterlab>=3->geemap) (304)\n",
      "Requirement already satisfied: jsonschema>=3.0.1 in c:\\users\\fauzi\\anaconda3\\envs\\geogee\\lib\\site-packages (from jupyterlab-server~=2.10->jupyterlab>=3->geemap) (4.16.0)\n",
      "Requirement already satisfied: json5 in c:\\users\\fauzi\\anaconda3\\envs\\geogee\\lib\\site-packages (from jupyterlab-server~=2.10->jupyterlab>=3->geemap) (0.9.10)\n",
      "Requirement already satisfied: babel in c:\\users\\fauzi\\anaconda3\\envs\\geogee\\lib\\site-packages (from jupyterlab-server~=2.10->jupyterlab>=3->geemap) (2.10.3)\n",
      "Requirement already satisfied: nest-asyncio>=1.5 in c:\\users\\fauzi\\anaconda3\\envs\\geogee\\lib\\site-packages (from notebook<7->jupyterlab>=3->geemap) (1.5.6)\n",
      "Requirement already satisfied: tenacity>=6.2.0 in c:\\users\\fauzi\\anaconda3\\envs\\geogee\\lib\\site-packages (from plotly>=5.2.2->sankee>=0.1.0->geemap) (8.1.0)\n",
      "Requirement already satisfied: charset-normalizer<3,>=2 in c:\\users\\fauzi\\anaconda3\\envs\\geogee\\lib\\site-packages (from requests->folium>=0.11.0->geemap) (2.0.4)\n",
      "Requirement already satisfied: idna<4,>=2.5 in c:\\users\\fauzi\\anaconda3\\envs\\geogee\\lib\\site-packages (from requests->folium>=0.11.0->geemap) (3.4)\n",
      "Requirement already satisfied: urllib3<1.27,>=1.21.1 in c:\\users\\fauzi\\anaconda3\\envs\\geogee\\lib\\site-packages (from requests->folium>=0.11.0->geemap) (1.26.12)\n",
      "Requirement already satisfied: certifi>=2017.4.17 in c:\\users\\fauzi\\anaconda3\\envs\\geogee\\lib\\site-packages (from requests->folium>=0.11.0->geemap) (2022.9.24)\n",
      "Requirement already satisfied: google-cloud-core<2.0dev,>=1.0.3 in c:\\users\\fauzi\\anaconda3\\envs\\geogee\\lib\\site-packages (from google-cloud-storage->earthengine-api>=0.1.304->geemap) (1.7.1)\n",
      "Requirement already satisfied: google-resumable-media>=0.3.1 in c:\\users\\fauzi\\anaconda3\\envs\\geogee\\lib\\site-packages (from google-cloud-storage->earthengine-api>=0.1.304->geemap) (2.4.0)\n",
      "Requirement already satisfied: notebook-shim>=0.1.0 in c:\\users\\fauzi\\anaconda3\\envs\\geogee\\lib\\site-packages (from nbclassic->jupyterlab>=3->geemap) (0.2.0)\n",
      "Requirement already satisfied: PySocks!=1.5.7,>=1.5.6 in c:\\users\\fauzi\\anaconda3\\envs\\geogee\\lib\\site-packages (from requests->folium>=0.11.0->geemap) (1.7.1)\n",
      "Requirement already satisfied: sniffio>=1.1 in c:\\users\\fauzi\\anaconda3\\envs\\geogee\\lib\\site-packages (from anyio<4,>=3.1.0->jupyter-server<3,>=1.16.0->jupyterlab>=3->geemap) (1.3.0)\n",
      "Requirement already satisfied: googleapis-common-protos<2.0dev,>=1.6.0 in c:\\users\\fauzi\\anaconda3\\envs\\geogee\\lib\\site-packages (from google-api-core<2dev,>=1.21.0->google-api-python-client<2,>=1.12.1->earthengine-api>=0.1.304->geemap) (1.56.4)\n",
      "Requirement already satisfied: protobuf>=3.12.0 in c:\\users\\fauzi\\anaconda3\\envs\\geogee\\lib\\site-packages (from google-api-core<2dev,>=1.21.0->google-api-python-client<2,>=1.12.1->earthengine-api>=0.1.304->geemap) (3.20.3)\n",
      "Requirement already satisfied: google-crc32c<2.0dev,>=1.0 in c:\\users\\fauzi\\anaconda3\\envs\\geogee\\lib\\site-packages (from google-resumable-media>=0.3.1->google-cloud-storage->earthengine-api>=0.1.304->geemap) (1.5.0)\n",
      "Requirement already satisfied: psutil in c:\\users\\fauzi\\anaconda3\\envs\\geogee\\lib\\site-packages (from ipykernel>=4.5.1->ipywidgets->ipyfilechooser>=0.6.0->geemap) (5.9.3)\n",
      "Requirement already satisfied: debugpy>=1.0 in c:\\users\\fauzi\\anaconda3\\envs\\geogee\\lib\\site-packages (from ipykernel>=4.5.1->ipywidgets->ipyfilechooser>=0.6.0->geemap) (1.5.1)\n",
      "Requirement already satisfied: parso<0.9.0,>=0.8.0 in c:\\users\\fauzi\\anaconda3\\envs\\geogee\\lib\\site-packages (from jedi>=0.16->ipython->jupyterlab>=3->geemap) (0.8.3)\n",
      "Requirement already satisfied: pyrsistent!=0.17.0,!=0.17.1,!=0.17.2,>=0.14.0 in c:\\users\\fauzi\\anaconda3\\envs\\geogee\\lib\\site-packages (from jsonschema>=3.0.1->jupyterlab-server~=2.10->jupyterlab>=3->geemap) (0.18.1)\n",
      "Requirement already satisfied: attrs>=17.4.0 in c:\\users\\fauzi\\anaconda3\\envs\\geogee\\lib\\site-packages (from jsonschema>=3.0.1->jupyterlab-server~=2.10->jupyterlab>=3->geemap) (21.4.0)\n",
      "Requirement already satisfied: entrypoints in c:\\users\\fauzi\\anaconda3\\envs\\geogee\\lib\\site-packages (from jupyter-client>=6.1.12->jupyter-server<3,>=1.16.0->jupyterlab>=3->geemap) (0.4)\n",
      "Requirement already satisfied: mistune<2,>=0.8.1 in c:\\users\\fauzi\\anaconda3\\envs\\geogee\\lib\\site-packages (from nbconvert>=6.4.4->jupyter-server<3,>=1.16.0->jupyterlab>=3->geemap) (0.8.4)\n",
      "Requirement already satisfied: testpath in c:\\users\\fauzi\\anaconda3\\envs\\geogee\\lib\\site-packages (from nbconvert>=6.4.4->jupyter-server<3,>=1.16.0->jupyterlab>=3->geemap) (0.6.0)\n",
      "Requirement already satisfied: nbclient<0.6.0,>=0.5.0 in c:\\users\\fauzi\\anaconda3\\envs\\geogee\\lib\\site-packages (from nbconvert>=6.4.4->jupyter-server<3,>=1.16.0->jupyterlab>=3->geemap) (0.5.13)\n",
      "Requirement already satisfied: pandocfilters>=1.4.1 in c:\\users\\fauzi\\anaconda3\\envs\\geogee\\lib\\site-packages (from nbconvert>=6.4.4->jupyter-server<3,>=1.16.0->jupyterlab>=3->geemap) (1.5.0)\n",
      "Requirement already satisfied: jupyterlab-pygments in c:\\users\\fauzi\\anaconda3\\envs\\geogee\\lib\\site-packages (from nbconvert>=6.4.4->jupyter-server<3,>=1.16.0->jupyterlab>=3->geemap) (0.2.2)\n",
      "Requirement already satisfied: defusedxml in c:\\users\\fauzi\\anaconda3\\envs\\geogee\\lib\\site-packages (from nbconvert>=6.4.4->jupyter-server<3,>=1.16.0->jupyterlab>=3->geemap) (0.7.1)\n",
      "Requirement already satisfied: bleach in c:\\users\\fauzi\\anaconda3\\envs\\geogee\\lib\\site-packages (from nbconvert>=6.4.4->jupyter-server<3,>=1.16.0->jupyterlab>=3->geemap) (4.1.0)\n",
      "Requirement already satisfied: fastjsonschema in c:\\users\\fauzi\\anaconda3\\envs\\geogee\\lib\\site-packages (from nbformat>=4.2.0->ipywidgets->ipyfilechooser>=0.6.0->geemap) (2.16.2)\n",
      "Requirement already satisfied: wcwidth in c:\\users\\fauzi\\anaconda3\\envs\\geogee\\lib\\site-packages (from prompt-toolkit!=3.0.0,!=3.0.1,<3.1.0,>=2.0.0->ipython->jupyterlab>=3->geemap) (0.2.5)\n",
      "Requirement already satisfied: pyasn1<0.5.0,>=0.4.6 in c:\\users\\fauzi\\anaconda3\\envs\\geogee\\lib\\site-packages (from pyasn1-modules>=0.2.1->google-auth>=1.4.1->earthengine-api>=0.1.304->geemap) (0.4.8)\n",
      "Requirement already satisfied: argon2-cffi-bindings in c:\\users\\fauzi\\anaconda3\\envs\\geogee\\lib\\site-packages (from argon2-cffi->jupyter-server<3,>=1.16.0->jupyterlab>=3->geemap) (21.2.0)\n",
      "Requirement already satisfied: executing in c:\\users\\fauzi\\anaconda3\\envs\\geogee\\lib\\site-packages (from stack-data->ipython->jupyterlab>=3->geemap) (1.2.0)\n",
      "Requirement already satisfied: asttokens in c:\\users\\fauzi\\anaconda3\\envs\\geogee\\lib\\site-packages (from stack-data->ipython->jupyterlab>=3->geemap) (2.0.5)\n",
      "Requirement already satisfied: pure-eval in c:\\users\\fauzi\\anaconda3\\envs\\geogee\\lib\\site-packages (from stack-data->ipython->jupyterlab>=3->geemap) (0.2.2)\n",
      "Requirement already satisfied: cffi>=1.0.1 in c:\\users\\fauzi\\anaconda3\\envs\\geogee\\lib\\site-packages (from argon2-cffi-bindings->argon2-cffi->jupyter-server<3,>=1.16.0->jupyterlab>=3->geemap) (1.15.1)\n",
      "Requirement already satisfied: webencodings in c:\\users\\fauzi\\anaconda3\\envs\\geogee\\lib\\site-packages (from bleach->nbconvert>=6.4.4->jupyter-server<3,>=1.16.0->jupyterlab>=3->geemap) (0.5.1)\n",
      "Requirement already satisfied: pycparser in c:\\users\\fauzi\\anaconda3\\envs\\geogee\\lib\\site-packages (from cffi>=1.0.1->argon2-cffi-bindings->argon2-cffi->jupyter-server<3,>=1.16.0->jupyterlab>=3->geemap) (2.21)\n"
     ]
    }
   ],
   "source": [
    "pip install geemap"
   ]
  },
  {
   "cell_type": "code",
   "execution_count": 3,
   "id": "29318c09",
   "metadata": {},
   "outputs": [],
   "source": [
    "import geemap"
   ]
  },
  {
   "cell_type": "code",
   "execution_count": 8,
   "id": "3a97ba0b",
   "metadata": {},
   "outputs": [
    {
     "data": {
      "application/vnd.jupyter.widget-view+json": {
       "model_id": "9b2b9d8c77154ad2b7f0c100405dbf2b",
       "version_major": 2,
       "version_minor": 0
      },
      "text/plain": [
       "Map(center=[106.827, -6.175], controls=(WidgetControl(options=['position', 'transparent_bg'], widget=HBox(chil…"
      ]
     },
     "metadata": {},
     "output_type": "display_data"
    }
   ],
   "source": [
    "Map = geemap.Map(center=[106.827, -6.175], zoom=18)\n",
    "Map"
   ]
  },
  {
   "cell_type": "code",
   "execution_count": 6,
   "id": "faa50cfa",
   "metadata": {},
   "outputs": [
    {
     "data": {
      "application/vnd.jupyter.widget-view+json": {
       "model_id": "70bbe2231b2c4cd4a200c63f7f457a58",
       "version_major": 2,
       "version_minor": 0
      },
      "text/plain": [
       "Map(center=[20, 0], controls=(WidgetControl(options=['position', 'transparent_bg'], widget=HBox(children=(Togg…"
      ]
     },
     "metadata": {},
     "output_type": "display_data"
    }
   ],
   "source": [
    "Map.add_basemap('HYBRID')\n",
    "naip_url = 'https://services.nationalmap.gov/arcgis/services/USGSNAIPImagery/ImageServer/WMSServer?'\n",
    "Map.add_wms_layer(\n",
    "    url=naip_url, layers='0', name='NAIP Imagery', format='image/png', shown=True\n",
    ")\n",
    "url = 'https://mt1.google.com/vt/lyrs=m&x={x}&y={y}&z={z}'\n",
    "Map.add_tile_layer(url, name='Google Map', attribution='Google')\n",
    "m = geemap.Map()\n",
    "m.basemap_demo()\n",
    "m"
   ]
  },
  {
   "cell_type": "code",
   "execution_count": null,
   "id": "f5542f83",
   "metadata": {},
   "outputs": [],
   "source": []
  }
 ],
 "metadata": {
  "kernelspec": {
   "display_name": "Python 3 (ipykernel)",
   "language": "python",
   "name": "python3"
  },
  "language_info": {
   "codemirror_mode": {
    "name": "ipython",
    "version": 3
   },
   "file_extension": ".py",
   "mimetype": "text/x-python",
   "name": "python",
   "nbconvert_exporter": "python",
   "pygments_lexer": "ipython3",
   "version": "3.10.4"
  }
 },
 "nbformat": 4,
 "nbformat_minor": 5
}
